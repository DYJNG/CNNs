{
 "cells": [
  {
   "cell_type": "code",
   "execution_count": 1,
   "metadata": {},
   "outputs": [
    {
     "name": "stderr",
     "output_type": "stream",
     "text": [
      "/home/dyjng/anaconda3/lib/python3.6/site-packages/urllib3/contrib/pyopenssl.py:46: DeprecationWarning: OpenSSL.rand is deprecated - you should use os.urandom instead\n",
      "  import OpenSSL.SSL\n"
     ]
    }
   ],
   "source": [
    "import mxnet as mx\n",
    "from mxnet import ndarray as nd\n",
    "from mxnet import autograd as ag\n",
    "from mxnet import init\n",
    "from mxnet import gluon\n",
    "from mxnet.gluon.data import vision\n",
    "from mxnet.gluon.data.vision import transforms\n",
    "from mxnet.gluon import nn\n",
    "from mxnet.gluon.data import DataLoader\n",
    "import datetime\n",
    "%matplotlib inline\n",
    "import matplotlib as mpl\n",
    "mpl.rcParams['figure.dpi'] = 120\n",
    "import matplotlib.pyplot as plt\n",
    "import numpy as np\n",
    "import pandas as pd"
   ]
  },
  {
   "cell_type": "code",
   "execution_count": 2,
   "metadata": {
    "collapsed": true
   },
   "outputs": [],
   "source": [
    "train_augs = transforms.Compose([\n",
    "    transforms.Resize(224), \n",
    "    transforms.RandomResizedCrop(224), \n",
    "    transforms.RandomFlipLeftRight(), \n",
    "    transforms.ToTensor(), \n",
    "    transforms.Normalize(mean=[0.4914, 0.4822, 0.4465], std=[0.2023, 0.1994, 0.2010])\n",
    "])\n",
    "\n",
    "valid_augs = transforms.Compose([\n",
    "    transforms.Resize(224), \n",
    "    transforms.ToTensor(), \n",
    "    transforms.Normalize(mean=[0.4914, 0.4822, 0.4465], std=[0.2023, 0.1994, 0.2010])\n",
    "])"
   ]
  },
  {
   "cell_type": "code",
   "execution_count": 3,
   "metadata": {
    "collapsed": true
   },
   "outputs": [],
   "source": [
    "data_dir = 'data/cifar10/'\n",
    "batch_size = 128\n",
    "\n",
    "train_ds = vision.ImageFolderDataset(root=data_dir+'train', flag=1)\n",
    "valid_ds = vision.ImageFolderDataset(root=data_dir+'valid', flag=1)\n",
    "\n",
    "train_data = DataLoader(train_ds.transform_first(train_augs), \n",
    "                        batch_size=batch_size, shuffle=True, last_batch='keep')\n",
    "valid_data = DataLoader(valid_ds.transform_first(valid_augs), \n",
    "                        batch_size=batch_size, shuffle=False, last_batch='keep')"
   ]
  },
  {
   "cell_type": "code",
   "execution_count": 4,
   "metadata": {},
   "outputs": [
    {
     "name": "stdout",
     "output_type": "stream",
     "text": [
      "(128, 3, 224, 224)\n",
      "(128,)\n",
      "\n",
      "[3 0 0 1 0 1 3 7 4 3 5 7 5 1 7 7 7 1 7 7 4 9 3 4 4 6 8 7 8 3 4 1 1 2 7 6 8\n",
      " 4 1 5 5 6 4 6 1 6 3 9 3 8 7 6 4 3 9 6 9 2 1 4 1 1 7 0 5 2 8 5 8 2 8 2 7 5\n",
      " 6 6 3 7 7 7 8 3 9 4 6 3 7 1 3 6 5 2 5 0 9 9 5 9 3 3 9 3 3 3 7 5 2 3 0 5 8\n",
      " 2 7 2 7 5 8 6 4 1 8 6 7 1 3 2 6 0]\n",
      "<NDArray 128 @cpu(0)>\n"
     ]
    }
   ],
   "source": [
    "for data, label in train_data:\n",
    "    print(data.shape)\n",
    "    print(label.shape)\n",
    "    print(label)\n",
    "    break"
   ]
  },
  {
   "cell_type": "markdown",
   "metadata": {},
   "source": [
    "## 设计模型 --GoogLeNet"
   ]
  },
  {
   "cell_type": "code",
   "execution_count": 5,
   "metadata": {
    "collapsed": true
   },
   "outputs": [],
   "source": [
    "class inception_block(nn.HybridBlock):\n",
    "    def __init__(self, channels, **kwargs):\n",
    "        super(inception_block, self).__init__(**kwargs)\n",
    "        with self.name_scope():\n",
    "            branch_1 = nn.HybridSequential()\n",
    "            branch_1.add(nn.Conv2D(channels=channels[0], kernel_size=1, \n",
    "                                   strides=1, padding=0))\n",
    "            branch_1.add(nn.BatchNorm())\n",
    "            branch_1.add(nn.Activation(activation='relu'))\n",
    "            \n",
    "            branch_2 = nn.HybridSequential()\n",
    "            branch_2.add(nn.Conv2D(channels=channels[1], kernel_size=1, \n",
    "                                   strides=1, padding=0))\n",
    "            branch_2.add(nn.BatchNorm())\n",
    "            branch_2.add(nn.Activation(activation='relu'))\n",
    "            branch_2.add(nn.Conv2D(channels=channels[2], kernel_size=3, \n",
    "                                   strides=1, padding=1))\n",
    "            branch_2.add(nn.BatchNorm())\n",
    "            branch_2.add(nn.Activation(activation='relu'))\n",
    "            \n",
    "            branch_3 = nn.HybridSequential()\n",
    "            branch_3.add(nn.Conv2D(channels=channels[3], kernel_size=1, \n",
    "                                   strides=1, padding=0))\n",
    "            branch_3.add(nn.BatchNorm())\n",
    "            branch_3.add(nn.Activation(activation='relu'))\n",
    "            branch_3.add(nn.Conv2D(channels=channels[4], kernel_size=5, \n",
    "                                   strides=1, padding=2))\n",
    "            branch_3.add(nn.BatchNorm())\n",
    "            branch_3.add(nn.Activation(activation='relu'))\n",
    "            \n",
    "            branch_4 = nn.HybridSequential()\n",
    "            branch_4.add(nn.MaxPool2D(pool_size=3, strides=1, padding=1))\n",
    "            branch_4.add(nn.Conv2D(channels=channels[5], kernel_size=1, \n",
    "                                   strides=1, padding=0))\n",
    "        self.branch_1 = branch_1\n",
    "        self.branch_2 = branch_2\n",
    "        self.branch_3 = branch_3\n",
    "        self.branch_4 = branch_4\n",
    "    \n",
    "    def hybrid_forward(self, F, x):\n",
    "        out1 = out2 = out3 = out4 = x\n",
    "        for layer in self.branch_1:\n",
    "            out1 = layer(out1)\n",
    "        for layer in self.branch_2:\n",
    "            out2 = layer(out2)\n",
    "        for layer in self.branch_3:\n",
    "            out3 = layer(out3)\n",
    "        for layer in self.branch_4:\n",
    "            out4 = layer(out4)\n",
    "        out = F.concat(out1, out2, out3, out4, dim=1)\n",
    "        return out"
   ]
  },
  {
   "cell_type": "code",
   "execution_count": 6,
   "metadata": {
    "collapsed": true
   },
   "outputs": [],
   "source": [
    "class GoogLeNet(nn.HybridBlock):\n",
    "    def __init__(self, num_classes, verbose=False, **kwargs):\n",
    "        super(GoogLeNet, self).__init__(**kwargs)\n",
    "        self.verbose = verbose\n",
    "        with self.name_scope():\n",
    "            net = nn.HybridSequential()\n",
    "            # Stage 1\n",
    "            net.add(nn.Conv2D(channels=64, kernel_size=7, \n",
    "                              strides=2, padding=3))\n",
    "            net.add(nn.BatchNorm())\n",
    "            net.add(nn.Activation(activation='relu'))\n",
    "            net.add(nn.MaxPool2D(pool_size=3, strides=2, padding=1))\n",
    "            # Stage 2\n",
    "            net.add(nn.Conv2D(channels=64, kernel_size=1, \n",
    "                              strides=1, padding=0))\n",
    "            net.add(nn.BatchNorm())\n",
    "            net.add(nn.Activation(activation='relu'))\n",
    "            net.add(nn.Conv2D(channels=192, kernel_size=3, \n",
    "                              strides=1, padding=1))\n",
    "            net.add(nn.BatchNorm())\n",
    "            net.add(nn.Activation(activation='relu'))\n",
    "            net.add(nn.MaxPool2D(pool_size=3, strides=2, padding=1))\n",
    "            # Stage 3\n",
    "            net.add(inception_block(channels=[64, 96, 128, 16, 32, 32]))\n",
    "            net.add(inception_block(channels=[128, 128, 192, 32, 96, 64]))\n",
    "            net.add(nn.MaxPool2D(pool_size=3, strides=2, padding=1))\n",
    "            # Stage 4\n",
    "            net.add(inception_block(channels=[192, 96, 208, 16, 48, 64]))\n",
    "            net.add(inception_block(channels=[160, 112, 224, 24, 64, 64]))\n",
    "            net.add(inception_block(channels=[128, 128, 256, 24, 64, 64]))\n",
    "            net.add(inception_block(channels=[112, 144, 288, 32, 64, 64]))\n",
    "            net.add(inception_block(channels=[256, 160, 320, 32, 128, 128]))\n",
    "            net.add(nn.MaxPool2D(pool_size=3, strides=2, padding=1))\n",
    "            # Stage 5\n",
    "            net.add(inception_block(channels=[256, 160, 320, 32, 128, 128]))\n",
    "            net.add(inception_block(channels=[384, 192, 384, 48, 128, 128]))\n",
    "            net.add(nn.AvgPool2D(pool_size=7, strides=1, padding=0))\n",
    "            # classification\n",
    "            net.add(nn.Dropout(0.4))\n",
    "            net.add(nn.Flatten())\n",
    "            net.add(nn.Dense(num_classes))\n",
    "        self.net = net\n",
    "        \n",
    "    def hybrid_forward(self, F, x):\n",
    "        for i, layer in enumerate(self.net):\n",
    "            out = layer(x)\n",
    "            x = out\n",
    "            if self.verbose:\n",
    "                print('Block %d, Output: %s' % (i+1, out.shape))\n",
    "        return out"
   ]
  },
  {
   "cell_type": "code",
   "execution_count": 7,
   "metadata": {
    "collapsed": true
   },
   "outputs": [],
   "source": [
    "def get_net(ctx, num_classes=10):\n",
    "    net = GoogLeNet(num_classes=num_classes)\n",
    "    net.initialize(ctx=ctx, init=init.Xavier())\n",
    "    return net"
   ]
  },
  {
   "cell_type": "code",
   "execution_count": 8,
   "metadata": {
    "collapsed": true
   },
   "outputs": [],
   "source": [
    "# net = GoogLeNet(num_classes=10, verbose=True)\n",
    "# net.initialize()\n",
    "# net"
   ]
  },
  {
   "cell_type": "code",
   "execution_count": 9,
   "metadata": {
    "collapsed": true
   },
   "outputs": [],
   "source": [
    "# for data, label in train_data:\n",
    "#     output = net(data)\n",
    "#     break"
   ]
  },
  {
   "cell_type": "code",
   "execution_count": 10,
   "metadata": {
    "collapsed": true
   },
   "outputs": [],
   "source": [
    "softmax_cross_entropy = gluon.loss.SoftmaxCrossEntropyLoss()"
   ]
  },
  {
   "cell_type": "code",
   "execution_count": 11,
   "metadata": {
    "collapsed": true
   },
   "outputs": [],
   "source": [
    "def train(train_data, valid_data, net, ctx, num_epochs, \n",
    "          lr, lr_decay, lr_period, wd, \n",
    "          cost_period, print_cost=False):\n",
    "    train_costs = []\n",
    "    valid_costs = []\n",
    "    trainer = gluon.Trainer(net.collect_params(), 'sgd', {'learning_rate': lr, \n",
    "                                                          'momentum': 0.9, \n",
    "                                                          'wd': wd})\n",
    "    for epoch in range(num_epochs):\n",
    "        pre_time = datetime.datetime.now()\n",
    "        train_loss = 0\n",
    "        train_acc = 0\n",
    "        valid_loss = 0\n",
    "        valid_acc = 0\n",
    "        if (epoch+1) in lr_period:\n",
    "            trainer.set_learning_rate(trainer.learning_rate*lr_decay)\n",
    "        for data, label in train_data:\n",
    "            data = data.as_in_context(ctx)\n",
    "            label = label.as_in_context(ctx).astype('float32')\n",
    "            with ag.record():\n",
    "                output = net(data)\n",
    "                loss = softmax_cross_entropy(output, label)\n",
    "            loss.backward()\n",
    "            trainer.step(batch_size)\n",
    "            train_loss += nd.mean(loss).asscalar()\n",
    "            train_acc += nd.mean(output.argmax(axis=1) == label).asscalar()\n",
    "        \n",
    "        cur_time = datetime.datetime.now()\n",
    "        h, remainder = divmod((cur_time-pre_time).seconds, 3600)\n",
    "        m, s = divmod(remainder, 60)\n",
    "        time_str = 'Time %02d:%02d:%02d, ' % (h, m, s)\n",
    "        \n",
    "        if valid_data is not None:\n",
    "            for data, label in valid_data:\n",
    "                data = data.as_in_context(ctx)\n",
    "                label = label.as_in_context(ctx).astype('float32')\n",
    "                output = net(data)\n",
    "                loss = softmax_cross_entropy(output, label)\n",
    "                valid_loss += nd.mean(loss).asscalar()\n",
    "                valid_acc += nd.mean(output.argmax(axis=1) == label).asscalar()\n",
    "            print_str = 'Epoch %d, train_loss: %f, train_acc: %f, valid_acc: %f, ' % (epoch+1, \n",
    "                                                                                      train_loss/len(train_data), \n",
    "                                                                                      train_acc/len(train_data), \n",
    "                                                                                      valid_acc/len(valid_data))\n",
    "        else:\n",
    "            print_str = 'Epoch %d, train_loss: %f, train_acc: %f, ' % (epoch+1, \n",
    "                                                                   train_loss/len(train_data), \n",
    "                                                                   train_acc/len(train_data))\n",
    "        print(print_str+time_str+'lr: %f' % trainer.learning_rate)\n",
    "        \n",
    "        if print_cost and (epoch+1) % cost_period == 0:\n",
    "            train_costs.append(train_loss/len(train_data))\n",
    "            valid_costs.append(valid_loss/len(valid_data))\n",
    "        \n",
    "    if print_cost:\n",
    "        x_axis = np.linspace(0, num_epoches, len(train_costs), endpoint=True)\n",
    "        l1, = plt.semilogy(x_axis, train_costs)\n",
    "        l2, = plt.semilogy(x_axis, valid_costs)\n",
    "        plt.xlabel('epoch')\n",
    "        plt.ylabel('loss')\n",
    "        plt.legend([l1, l2], ['train', 'valid'], loc='upper right')\n",
    "        plt.show()"
   ]
  },
  {
   "cell_type": "code",
   "execution_count": 12,
   "metadata": {
    "collapsed": true
   },
   "outputs": [],
   "source": [
    "ctx = mx.gpu(0)\n",
    "net = get_net(ctx=ctx, num_classes=10)\n",
    "net.hybridize()\n",
    "\n",
    "num_epochs = 100\n",
    "lr = 0.01\n",
    "lr_decay = 0.1\n",
    "lr_period = [35, 75]\n",
    "wd = 5e-4\n",
    "cost_period = 10\n",
    "print_cost = True"
   ]
  },
  {
   "cell_type": "code",
   "execution_count": 13,
   "metadata": {},
   "outputs": [
    {
     "name": "stdout",
     "output_type": "stream",
     "text": [
      "Epoch 1, train_loss: 1.841722, train_acc: 0.349175, valid_acc: 0.462500, Time 000243, lr: 0.010000\n",
      "Epoch 2, train_loss: 1.506475, train_acc: 0.474424, valid_acc: 0.508398, Time 000240, lr: 0.010000\n",
      "Epoch 3, train_loss: 1.316293, train_acc: 0.533605, valid_acc: 0.461914, Time 000240, lr: 0.010000\n",
      "Epoch 4, train_loss: 1.204649, train_acc: 0.577415, valid_acc: 0.618164, Time 000240, lr: 0.010000\n",
      "Epoch 5, train_loss: 1.101322, train_acc: 0.613538, valid_acc: 0.655078, Time 000240, lr: 0.010000\n",
      "Epoch 6, train_loss: 1.022485, train_acc: 0.639727, valid_acc: 0.721289, Time 000240, lr: 0.010000\n",
      "Epoch 7, train_loss: 0.972765, train_acc: 0.658669, valid_acc: 0.722266, Time 000240, lr: 0.010000\n",
      "Epoch 8, train_loss: 0.924787, train_acc: 0.677374, valid_acc: 0.752734, Time 000240, lr: 0.010000\n",
      "Epoch 9, train_loss: 0.872614, train_acc: 0.692370, valid_acc: 0.721680, Time 000240, lr: 0.010000\n",
      "Epoch 10, train_loss: 0.835013, train_acc: 0.707707, valid_acc: 0.783984, Time 000240, lr: 0.010000\n",
      "Epoch 11, train_loss: 0.807474, train_acc: 0.715660, valid_acc: 0.753516, Time 000240, lr: 0.010000\n",
      "Epoch 12, train_loss: 0.774329, train_acc: 0.730886, valid_acc: 0.801953, Time 000240, lr: 0.010000\n",
      "Epoch 13, train_loss: 0.746677, train_acc: 0.738183, valid_acc: 0.786523, Time 000239, lr: 0.010000\n",
      "Epoch 14, train_loss: 0.725885, train_acc: 0.747263, valid_acc: 0.811914, Time 000240, lr: 0.010000\n",
      "Epoch 15, train_loss: 0.708192, train_acc: 0.750508, valid_acc: 0.826367, Time 000240, lr: 0.010000\n",
      "Epoch 16, train_loss: 0.683449, train_acc: 0.760708, valid_acc: 0.828125, Time 000240, lr: 0.010000\n",
      "Epoch 17, train_loss: 0.666675, train_acc: 0.767045, valid_acc: 0.823438, Time 000240, lr: 0.010000\n",
      "Epoch 18, train_loss: 0.651189, train_acc: 0.772873, valid_acc: 0.827930, Time 000240, lr: 0.010000\n",
      "Epoch 19, train_loss: 0.641146, train_acc: 0.775714, valid_acc: 0.832617, Time 000240, lr: 0.010000\n",
      "Epoch 20, train_loss: 0.621369, train_acc: 0.784910, valid_acc: 0.821484, Time 000240, lr: 0.010000\n",
      "Epoch 21, train_loss: 0.609462, train_acc: 0.784875, valid_acc: 0.829883, Time 000240, lr: 0.010000\n",
      "Epoch 22, train_loss: 0.603613, train_acc: 0.788929, valid_acc: 0.829102, Time 000240, lr: 0.010000\n",
      "Epoch 23, train_loss: 0.594346, train_acc: 0.794009, valid_acc: 0.837305, Time 000240, lr: 0.010000\n",
      "Epoch 24, train_loss: 0.577847, train_acc: 0.799469, valid_acc: 0.857227, Time 000240, lr: 0.010000\n",
      "Epoch 25, train_loss: 0.559217, train_acc: 0.805795, valid_acc: 0.847070, Time 000240, lr: 0.010000\n",
      "Epoch 26, train_loss: 0.550412, train_acc: 0.808892, valid_acc: 0.850000, Time 000240, lr: 0.010000\n",
      "Epoch 27, train_loss: 0.547800, train_acc: 0.810599, valid_acc: 0.875586, Time 000240, lr: 0.010000\n",
      "Epoch 28, train_loss: 0.532292, train_acc: 0.816276, valid_acc: 0.828125, Time 000240, lr: 0.010000\n",
      "Epoch 29, train_loss: 0.531828, train_acc: 0.815195, valid_acc: 0.872266, Time 000240, lr: 0.010000\n",
      "Epoch 30, train_loss: 0.519613, train_acc: 0.821886, valid_acc: 0.866602, Time 000240, lr: 0.010000\n",
      "Epoch 31, train_loss: 0.518165, train_acc: 0.820522, valid_acc: 0.859961, Time 000241, lr: 0.010000\n",
      "Epoch 32, train_loss: 0.515272, train_acc: 0.819405, valid_acc: 0.872852, Time 000240, lr: 0.010000\n",
      "Epoch 33, train_loss: 0.499951, train_acc: 0.825876, valid_acc: 0.809570, Time 000240, lr: 0.010000\n",
      "Epoch 34, train_loss: 0.495991, train_acc: 0.827501, valid_acc: 0.865234, Time 000242, lr: 0.010000\n",
      "Epoch 35, train_loss: 0.420076, train_acc: 0.854295, valid_acc: 0.912695, Time 000242, lr: 0.001000\n",
      "Epoch 36, train_loss: 0.379575, train_acc: 0.869412, valid_acc: 0.914453, Time 000244, lr: 0.001000\n",
      "Epoch 37, train_loss: 0.368039, train_acc: 0.873397, valid_acc: 0.914453, Time 000240, lr: 0.001000\n",
      "Epoch 38, train_loss: 0.354392, train_acc: 0.878393, valid_acc: 0.918164, Time 000240, lr: 0.001000\n",
      "Epoch 39, train_loss: 0.357234, train_acc: 0.877890, valid_acc: 0.916602, Time 000240, lr: 0.001000\n",
      "Epoch 40, train_loss: 0.343438, train_acc: 0.883145, valid_acc: 0.917383, Time 000240, lr: 0.001000\n",
      "Epoch 41, train_loss: 0.342194, train_acc: 0.885089, valid_acc: 0.918359, Time 000241, lr: 0.001000\n",
      "Epoch 42, train_loss: 0.340087, train_acc: 0.883710, valid_acc: 0.919727, Time 000240, lr: 0.001000\n"
     ]
    },
    {
     "ename": "KeyboardInterrupt",
     "evalue": "",
     "output_type": "error",
     "traceback": [
      "\u001b[0;31m---------------------------------------------------------------------------\u001b[0m",
      "\u001b[0;31mKeyboardInterrupt\u001b[0m                         Traceback (most recent call last)",
      "\u001b[0;32m<ipython-input-13-72d2e5e485fe>\u001b[0m in \u001b[0;36m<module>\u001b[0;34m()\u001b[0m\n\u001b[0;32m----> 1\u001b[0;31m \u001b[0mtrain\u001b[0m\u001b[0;34m(\u001b[0m\u001b[0mtrain_data\u001b[0m\u001b[0;34m,\u001b[0m \u001b[0mvalid_data\u001b[0m\u001b[0;34m,\u001b[0m \u001b[0mnet\u001b[0m\u001b[0;34m,\u001b[0m \u001b[0mctx\u001b[0m\u001b[0;34m,\u001b[0m \u001b[0mnum_epochs\u001b[0m\u001b[0;34m,\u001b[0m \u001b[0mlr\u001b[0m\u001b[0;34m,\u001b[0m \u001b[0mlr_decay\u001b[0m\u001b[0;34m,\u001b[0m \u001b[0mlr_period\u001b[0m\u001b[0;34m,\u001b[0m \u001b[0mwd\u001b[0m\u001b[0;34m,\u001b[0m \u001b[0mcost_period\u001b[0m\u001b[0;34m,\u001b[0m \u001b[0mprint_cost\u001b[0m\u001b[0;34m)\u001b[0m\u001b[0;34m\u001b[0m\u001b[0m\n\u001b[0m",
      "\u001b[0;32m<ipython-input-11-5042c1b1305e>\u001b[0m in \u001b[0;36mtrain\u001b[0;34m(train_data, valid_data, net, ctx, num_epochs, lr, lr_decay, lr_period, wd, cost_period, print_cost)\u001b[0m\n\u001b[1;32m     15\u001b[0m         \u001b[0;32mif\u001b[0m \u001b[0;34m(\u001b[0m\u001b[0mepoch\u001b[0m\u001b[0;34m+\u001b[0m\u001b[0;36m1\u001b[0m\u001b[0;34m)\u001b[0m \u001b[0;32min\u001b[0m \u001b[0mlr_period\u001b[0m\u001b[0;34m:\u001b[0m\u001b[0;34m\u001b[0m\u001b[0m\n\u001b[1;32m     16\u001b[0m             \u001b[0mtrainer\u001b[0m\u001b[0;34m.\u001b[0m\u001b[0mset_learning_rate\u001b[0m\u001b[0;34m(\u001b[0m\u001b[0mtrainer\u001b[0m\u001b[0;34m.\u001b[0m\u001b[0mlearning_rate\u001b[0m\u001b[0;34m*\u001b[0m\u001b[0mlr_decay\u001b[0m\u001b[0;34m)\u001b[0m\u001b[0;34m\u001b[0m\u001b[0m\n\u001b[0;32m---> 17\u001b[0;31m         \u001b[0;32mfor\u001b[0m \u001b[0mdata\u001b[0m\u001b[0;34m,\u001b[0m \u001b[0mlabel\u001b[0m \u001b[0;32min\u001b[0m \u001b[0mtrain_data\u001b[0m\u001b[0;34m:\u001b[0m\u001b[0;34m\u001b[0m\u001b[0m\n\u001b[0m\u001b[1;32m     18\u001b[0m             \u001b[0mdata\u001b[0m \u001b[0;34m=\u001b[0m \u001b[0mdata\u001b[0m\u001b[0;34m.\u001b[0m\u001b[0mas_in_context\u001b[0m\u001b[0;34m(\u001b[0m\u001b[0mctx\u001b[0m\u001b[0;34m)\u001b[0m\u001b[0;34m\u001b[0m\u001b[0m\n\u001b[1;32m     19\u001b[0m             \u001b[0mlabel\u001b[0m \u001b[0;34m=\u001b[0m \u001b[0mlabel\u001b[0m\u001b[0;34m.\u001b[0m\u001b[0mas_in_context\u001b[0m\u001b[0;34m(\u001b[0m\u001b[0mctx\u001b[0m\u001b[0;34m)\u001b[0m\u001b[0;34m.\u001b[0m\u001b[0mastype\u001b[0m\u001b[0;34m(\u001b[0m\u001b[0;34m'float32'\u001b[0m\u001b[0;34m)\u001b[0m\u001b[0;34m\u001b[0m\u001b[0m\n",
      "\u001b[0;32m~/anaconda3/lib/python3.6/site-packages/mxnet/gluon/data/dataloader.py\u001b[0m in \u001b[0;36m__iter__\u001b[0;34m(self)\u001b[0m\n\u001b[1;32m    200\u001b[0m         \u001b[0;32mif\u001b[0m \u001b[0mself\u001b[0m\u001b[0;34m.\u001b[0m\u001b[0m_num_workers\u001b[0m \u001b[0;34m==\u001b[0m \u001b[0;36m0\u001b[0m\u001b[0;34m:\u001b[0m\u001b[0;34m\u001b[0m\u001b[0m\n\u001b[1;32m    201\u001b[0m             \u001b[0;32mfor\u001b[0m \u001b[0mbatch\u001b[0m \u001b[0;32min\u001b[0m \u001b[0mself\u001b[0m\u001b[0;34m.\u001b[0m\u001b[0m_batch_sampler\u001b[0m\u001b[0;34m:\u001b[0m\u001b[0;34m\u001b[0m\u001b[0m\n\u001b[0;32m--> 202\u001b[0;31m                 \u001b[0;32myield\u001b[0m \u001b[0mself\u001b[0m\u001b[0;34m.\u001b[0m\u001b[0m_batchify_fn\u001b[0m\u001b[0;34m(\u001b[0m\u001b[0;34m[\u001b[0m\u001b[0mself\u001b[0m\u001b[0;34m.\u001b[0m\u001b[0m_dataset\u001b[0m\u001b[0;34m[\u001b[0m\u001b[0midx\u001b[0m\u001b[0;34m]\u001b[0m \u001b[0;32mfor\u001b[0m \u001b[0midx\u001b[0m \u001b[0;32min\u001b[0m \u001b[0mbatch\u001b[0m\u001b[0;34m]\u001b[0m\u001b[0;34m)\u001b[0m\u001b[0;34m\u001b[0m\u001b[0m\n\u001b[0m\u001b[1;32m    203\u001b[0m             \u001b[0;32mreturn\u001b[0m\u001b[0;34m\u001b[0m\u001b[0m\n\u001b[1;32m    204\u001b[0m \u001b[0;34m\u001b[0m\u001b[0m\n",
      "\u001b[0;32m~/anaconda3/lib/python3.6/site-packages/mxnet/gluon/data/dataloader.py\u001b[0m in \u001b[0;36m<listcomp>\u001b[0;34m(.0)\u001b[0m\n\u001b[1;32m    200\u001b[0m         \u001b[0;32mif\u001b[0m \u001b[0mself\u001b[0m\u001b[0;34m.\u001b[0m\u001b[0m_num_workers\u001b[0m \u001b[0;34m==\u001b[0m \u001b[0;36m0\u001b[0m\u001b[0;34m:\u001b[0m\u001b[0;34m\u001b[0m\u001b[0m\n\u001b[1;32m    201\u001b[0m             \u001b[0;32mfor\u001b[0m \u001b[0mbatch\u001b[0m \u001b[0;32min\u001b[0m \u001b[0mself\u001b[0m\u001b[0;34m.\u001b[0m\u001b[0m_batch_sampler\u001b[0m\u001b[0;34m:\u001b[0m\u001b[0;34m\u001b[0m\u001b[0m\n\u001b[0;32m--> 202\u001b[0;31m                 \u001b[0;32myield\u001b[0m \u001b[0mself\u001b[0m\u001b[0;34m.\u001b[0m\u001b[0m_batchify_fn\u001b[0m\u001b[0;34m(\u001b[0m\u001b[0;34m[\u001b[0m\u001b[0mself\u001b[0m\u001b[0;34m.\u001b[0m\u001b[0m_dataset\u001b[0m\u001b[0;34m[\u001b[0m\u001b[0midx\u001b[0m\u001b[0;34m]\u001b[0m \u001b[0;32mfor\u001b[0m \u001b[0midx\u001b[0m \u001b[0;32min\u001b[0m \u001b[0mbatch\u001b[0m\u001b[0;34m]\u001b[0m\u001b[0;34m)\u001b[0m\u001b[0;34m\u001b[0m\u001b[0m\n\u001b[0m\u001b[1;32m    203\u001b[0m             \u001b[0;32mreturn\u001b[0m\u001b[0;34m\u001b[0m\u001b[0m\n\u001b[1;32m    204\u001b[0m \u001b[0;34m\u001b[0m\u001b[0m\n",
      "\u001b[0;32m~/anaconda3/lib/python3.6/site-packages/mxnet/gluon/data/dataset.py\u001b[0m in \u001b[0;36m__getitem__\u001b[0;34m(self, idx)\u001b[0m\n\u001b[1;32m    124\u001b[0m \u001b[0;34m\u001b[0m\u001b[0m\n\u001b[1;32m    125\u001b[0m     \u001b[0;32mdef\u001b[0m \u001b[0m__getitem__\u001b[0m\u001b[0;34m(\u001b[0m\u001b[0mself\u001b[0m\u001b[0;34m,\u001b[0m \u001b[0midx\u001b[0m\u001b[0;34m)\u001b[0m\u001b[0;34m:\u001b[0m\u001b[0;34m\u001b[0m\u001b[0m\n\u001b[0;32m--> 126\u001b[0;31m         \u001b[0mitem\u001b[0m \u001b[0;34m=\u001b[0m \u001b[0mself\u001b[0m\u001b[0;34m.\u001b[0m\u001b[0m_data\u001b[0m\u001b[0;34m[\u001b[0m\u001b[0midx\u001b[0m\u001b[0;34m]\u001b[0m\u001b[0;34m\u001b[0m\u001b[0m\n\u001b[0m\u001b[1;32m    127\u001b[0m         \u001b[0;32mif\u001b[0m \u001b[0misinstance\u001b[0m\u001b[0;34m(\u001b[0m\u001b[0mitem\u001b[0m\u001b[0;34m,\u001b[0m \u001b[0mtuple\u001b[0m\u001b[0;34m)\u001b[0m\u001b[0;34m:\u001b[0m\u001b[0;34m\u001b[0m\u001b[0m\n\u001b[1;32m    128\u001b[0m             \u001b[0;32mreturn\u001b[0m \u001b[0mself\u001b[0m\u001b[0;34m.\u001b[0m\u001b[0m_fn\u001b[0m\u001b[0;34m(\u001b[0m\u001b[0;34m*\u001b[0m\u001b[0mitem\u001b[0m\u001b[0;34m)\u001b[0m\u001b[0;34m\u001b[0m\u001b[0m\n",
      "\u001b[0;32m~/anaconda3/lib/python3.6/site-packages/mxnet/gluon/data/vision/datasets.py\u001b[0m in \u001b[0;36m__getitem__\u001b[0;34m(self, idx)\u001b[0m\n\u001b[1;32m    347\u001b[0m \u001b[0;34m\u001b[0m\u001b[0m\n\u001b[1;32m    348\u001b[0m     \u001b[0;32mdef\u001b[0m \u001b[0m__getitem__\u001b[0m\u001b[0;34m(\u001b[0m\u001b[0mself\u001b[0m\u001b[0;34m,\u001b[0m \u001b[0midx\u001b[0m\u001b[0;34m)\u001b[0m\u001b[0;34m:\u001b[0m\u001b[0;34m\u001b[0m\u001b[0m\n\u001b[0;32m--> 349\u001b[0;31m         \u001b[0mimg\u001b[0m \u001b[0;34m=\u001b[0m \u001b[0mimage\u001b[0m\u001b[0;34m.\u001b[0m\u001b[0mimread\u001b[0m\u001b[0;34m(\u001b[0m\u001b[0mself\u001b[0m\u001b[0;34m.\u001b[0m\u001b[0mitems\u001b[0m\u001b[0;34m[\u001b[0m\u001b[0midx\u001b[0m\u001b[0;34m]\u001b[0m\u001b[0;34m[\u001b[0m\u001b[0;36m0\u001b[0m\u001b[0;34m]\u001b[0m\u001b[0;34m,\u001b[0m \u001b[0mself\u001b[0m\u001b[0;34m.\u001b[0m\u001b[0m_flag\u001b[0m\u001b[0;34m)\u001b[0m\u001b[0;34m\u001b[0m\u001b[0m\n\u001b[0m\u001b[1;32m    350\u001b[0m         \u001b[0mlabel\u001b[0m \u001b[0;34m=\u001b[0m \u001b[0mself\u001b[0m\u001b[0;34m.\u001b[0m\u001b[0mitems\u001b[0m\u001b[0;34m[\u001b[0m\u001b[0midx\u001b[0m\u001b[0;34m]\u001b[0m\u001b[0;34m[\u001b[0m\u001b[0;36m1\u001b[0m\u001b[0;34m]\u001b[0m\u001b[0;34m\u001b[0m\u001b[0m\n\u001b[1;32m    351\u001b[0m         \u001b[0;32mif\u001b[0m \u001b[0mself\u001b[0m\u001b[0;34m.\u001b[0m\u001b[0m_transform\u001b[0m \u001b[0;32mis\u001b[0m \u001b[0;32mnot\u001b[0m \u001b[0;32mNone\u001b[0m\u001b[0;34m:\u001b[0m\u001b[0;34m\u001b[0m\u001b[0m\n",
      "\u001b[0;32m~/anaconda3/lib/python3.6/site-packages/mxnet/image/image.py\u001b[0m in \u001b[0;36mimread\u001b[0;34m(filename, *args, **kwargs)\u001b[0m\n\u001b[1;32m     80\u001b[0m     \u001b[0;34m<\u001b[0m\u001b[0mNDArray\u001b[0m \u001b[0;36m224\u001b[0m\u001b[0mx224x3\u001b[0m \u001b[0;34m@\u001b[0m\u001b[0mcpu\u001b[0m\u001b[0;34m(\u001b[0m\u001b[0;36m0\u001b[0m\u001b[0;34m)\u001b[0m\u001b[0;34m>\u001b[0m\u001b[0;34m\u001b[0m\u001b[0m\n\u001b[1;32m     81\u001b[0m     \"\"\"\n\u001b[0;32m---> 82\u001b[0;31m     \u001b[0;32mreturn\u001b[0m \u001b[0m_internal\u001b[0m\u001b[0;34m.\u001b[0m\u001b[0m_cvimread\u001b[0m\u001b[0;34m(\u001b[0m\u001b[0mfilename\u001b[0m\u001b[0;34m,\u001b[0m \u001b[0;34m*\u001b[0m\u001b[0margs\u001b[0m\u001b[0;34m,\u001b[0m \u001b[0;34m**\u001b[0m\u001b[0mkwargs\u001b[0m\u001b[0;34m)\u001b[0m\u001b[0;34m\u001b[0m\u001b[0m\n\u001b[0m\u001b[1;32m     83\u001b[0m \u001b[0;34m\u001b[0m\u001b[0m\n\u001b[1;32m     84\u001b[0m \u001b[0;34m\u001b[0m\u001b[0m\n",
      "\u001b[0;32m~/anaconda3/lib/python3.6/site-packages/mxnet/ndarray/register.py\u001b[0m in \u001b[0;36m_cvimread\u001b[0;34m(filename, flag, to_rgb, out, name, **kwargs)\u001b[0m\n",
      "\u001b[0;32m~/anaconda3/lib/python3.6/site-packages/mxnet/_ctypes/ndarray.py\u001b[0m in \u001b[0;36m_imperative_invoke\u001b[0;34m(handle, ndargs, keys, vals, out)\u001b[0m\n\u001b[1;32m     90\u001b[0m         \u001b[0mc_str_array\u001b[0m\u001b[0;34m(\u001b[0m\u001b[0mkeys\u001b[0m\u001b[0;34m)\u001b[0m\u001b[0;34m,\u001b[0m\u001b[0;34m\u001b[0m\u001b[0m\n\u001b[1;32m     91\u001b[0m         \u001b[0mc_str_array\u001b[0m\u001b[0;34m(\u001b[0m\u001b[0;34m[\u001b[0m\u001b[0mstr\u001b[0m\u001b[0;34m(\u001b[0m\u001b[0ms\u001b[0m\u001b[0;34m)\u001b[0m \u001b[0;32mfor\u001b[0m \u001b[0ms\u001b[0m \u001b[0;32min\u001b[0m \u001b[0mvals\u001b[0m\u001b[0;34m]\u001b[0m\u001b[0;34m)\u001b[0m\u001b[0;34m,\u001b[0m\u001b[0;34m\u001b[0m\u001b[0m\n\u001b[0;32m---> 92\u001b[0;31m         ctypes.byref(out_stypes)))\n\u001b[0m\u001b[1;32m     93\u001b[0m \u001b[0;34m\u001b[0m\u001b[0m\n\u001b[1;32m     94\u001b[0m     \u001b[0;32mif\u001b[0m \u001b[0moriginal_output\u001b[0m \u001b[0;32mis\u001b[0m \u001b[0;32mnot\u001b[0m \u001b[0;32mNone\u001b[0m\u001b[0;34m:\u001b[0m\u001b[0;34m\u001b[0m\u001b[0m\n",
      "\u001b[0;31mKeyboardInterrupt\u001b[0m: "
     ]
    }
   ],
   "source": [
    "train(train_data, valid_data, net, ctx, num_epochs, lr, lr_decay, lr_period, wd, cost_period, print_cost)"
   ]
  },
  {
   "cell_type": "code",
   "execution_count": null,
   "metadata": {
    "collapsed": true
   },
   "outputs": [],
   "source": []
  }
 ],
 "metadata": {
  "kernelspec": {
   "display_name": "Python 3",
   "language": "python",
   "name": "python3"
  },
  "language_info": {
   "codemirror_mode": {
    "name": "ipython",
    "version": 3
   },
   "file_extension": ".py",
   "mimetype": "text/x-python",
   "name": "python",
   "nbconvert_exporter": "python",
   "pygments_lexer": "ipython3",
   "version": "3.6.3"
  }
 },
 "nbformat": 4,
 "nbformat_minor": 2
}
