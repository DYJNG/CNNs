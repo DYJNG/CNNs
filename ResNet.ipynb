{
 "cells": [
  {
   "cell_type": "markdown",
   "metadata": {},
   "source": [
    "# ResNet的实现及在cifar10上的应用"
   ]
  },
  {
   "cell_type": "markdown",
   "metadata": {},
   "source": [
    "## 导入数据集"
   ]
  },
  {
   "cell_type": "markdown",
   "metadata": {},
   "source": [
    "### 导入包"
   ]
  },
  {
   "cell_type": "code",
   "execution_count": 1,
   "metadata": {},
   "outputs": [
    {
     "name": "stderr",
     "output_type": "stream",
     "text": [
      "/home/dyjng/anaconda3/lib/python3.6/site-packages/urllib3/contrib/pyopenssl.py:46: DeprecationWarning: OpenSSL.rand is deprecated - you should use os.urandom instead\n",
      "  import OpenSSL.SSL\n"
     ]
    }
   ],
   "source": [
    "import mxnet as mx\n",
    "from mxnet import ndarray as nd\n",
    "from mxnet import autograd as ag\n",
    "from mxnet import init\n",
    "from mxnet import gluon\n",
    "from mxnet.gluon.data import vision\n",
    "from mxnet.gluon.data.vision import transforms\n",
    "from mxnet.gluon import nn\n",
    "import datetime\n",
    "%matplotlib inline\n",
    "import matplotlib as mpl\n",
    "mpl.rcParams['figure.dpi'] = 120\n",
    "import matplotlib.pyplot as plt\n",
    "import numpy as np\n",
    "import pandas as pd\n",
    "import utils"
   ]
  },
  {
   "cell_type": "markdown",
   "metadata": {},
   "source": [
    "### 数据增广"
   ]
  },
  {
   "cell_type": "code",
   "execution_count": 2,
   "metadata": {
    "collapsed": true
   },
   "outputs": [],
   "source": [
    "transform_train = transforms.Compose([\n",
    "#     transforms.CenterCrop(224),\n",
    "#     transforms.RandomFlipTopBottom(),\n",
    "#     transforms.RandomColorJitter(brightness=0.0, contrast=0.0, saturation=0.0, hue=0.0),\n",
    "#     transforms.RandomLighting(0.0),\n",
    "#     transforms.Cast('float32'),\n",
    "    transforms.Resize(224),\n",
    "    \n",
    "    # 随机按照 scale 和 ratio 裁剪， 并放缩为 227*227 #(32x32) 的正方形\n",
    "    transforms.RandomResizedCrop(224, scale=(0.08, 1.0), ratio=(3.0/4.0, 4.0/3.0)),\n",
    "    transforms.RandomFlipLeftRight(),\n",
    "    # 将像素值缩小到 (0, 1) 内， 并将数据格式从 “ 高 × 宽 × 通道 ” 改为 “ 通道 × 高 × 宽”\n",
    "    transforms.ToTensor(),\n",
    "    # 对图片的每个通道做标准化 --减去均值，除以方差\n",
    "    transforms.Normalize(mean=[0.4914, 0.4822, 0.4465], std=[0.2023, 0.1994, 0.2010]),\n",
    "])\n",
    "transform_valid = transforms.Compose([\n",
    "    transforms.Resize(224),\n",
    "    transforms.ToTensor(),\n",
    "    transforms.Normalize(mean=[0.4914, 0.4822, 0.4465], std=[0.2023, 0.1994, 0.2010])\n",
    "])"
   ]
  },
  {
   "cell_type": "markdown",
   "metadata": {},
   "source": [
    "### 读取数据集"
   ]
  },
  {
   "cell_type": "code",
   "execution_count": 3,
   "metadata": {
    "collapsed": true
   },
   "outputs": [],
   "source": [
    "data_dir = 'data/cifar10/'\n",
    "\n",
    "batch_size = 64\n",
    "\n",
    "train_ds = vision.ImageFolderDataset(root=data_dir+'train', flag=1)\n",
    "valid_ds = vision.ImageFolderDataset(root=data_dir+'valid', flag=1)\n",
    "\n",
    "train_data = gluon.data.DataLoader(dataset=train_ds.transform_first(transform_train), \n",
    "                                   batch_size=batch_size, shuffle=True, last_batch='keep')\n",
    "valid_data = gluon.data.DataLoader(dataset=valid_ds.transform_first(transform_valid), \n",
    "                                   batch_size=batch_size, shuffle=False, last_batch='keep')"
   ]
  },
  {
   "cell_type": "code",
   "execution_count": 4,
   "metadata": {},
   "outputs": [
    {
     "name": "stdout",
     "output_type": "stream",
     "text": [
      "45000\n",
      "5000\n",
      "704\n",
      "(64, 3, 224, 224) (64,)\n",
      "\n",
      "[0 7 8 2 3 9 9 6 2 8 0 5 5 3 1 2 6 3 2 8 2 8 8 2 1 7 9 7 9 1 2 9 3 0 5 4 2\n",
      " 7 1 3 7 6 9 7 2 7 6 7 7 5 0 9 1 2 2 7 4 0 5 2 3 3 2 4]\n",
      "<NDArray 64 @gpu(0)>\n"
     ]
    }
   ],
   "source": [
    "print(len(train_ds))\n",
    "print(len(valid_ds))\n",
    "\n",
    "print(len(train_data))\n",
    "for data, label in train_data:\n",
    "    print(data.shape, label.shape)\n",
    "    print(label.as_in_context(mx.gpu(0)))\n",
    "    break"
   ]
  },
  {
   "cell_type": "markdown",
   "metadata": {},
   "source": [
    "## 交叉熵损失函数"
   ]
  },
  {
   "cell_type": "code",
   "execution_count": 5,
   "metadata": {
    "collapsed": true
   },
   "outputs": [],
   "source": [
    "softmax_cross_entropy = gluon.loss.SoftmaxCrossEntropyLoss()"
   ]
  },
  {
   "cell_type": "markdown",
   "metadata": {},
   "source": [
    "## 设计模型 --ResNet"
   ]
  },
  {
   "cell_type": "code",
   "execution_count": 6,
   "metadata": {
    "collapsed": true
   },
   "outputs": [],
   "source": [
    "class residual_block(nn.HybridBlock):\n",
    "    def __init__(self, channels, same_shape=True, first_residual=False, **kwargs):\n",
    "        super(residual_block, self).__init__(**kwargs)\n",
    "        self.same_shape = same_shape\n",
    "        self.first_residual = first_residual\n",
    "        strides = 1 if same_shape else 2\n",
    "        with self.name_scope():\n",
    "            self.bn1 = nn.BatchNorm()\n",
    "            self.conv1 = nn.Conv2D(channels=channels, kernel_size=1, \n",
    "                                   strides=strides, padding=0)\n",
    "            self.bn2 = nn.BatchNorm()\n",
    "            self.conv2 = nn.Conv2D(channels=channels, kernel_size=3, \n",
    "                                   strides=1, padding=1)\n",
    "            self.bn3 = nn.BatchNorm()\n",
    "            self.conv3 = nn.Conv2D(channels=4*channels, kernel_size=1, \n",
    "                                   strides=1, padding=0)\n",
    "            if not same_shape:\n",
    "                self.conv4 = nn.Conv2D(channels=4*channels, kernel_size=1, \n",
    "                                       strides=strides, padding=0)\n",
    "            elif first_residual:\n",
    "                self.conv4 = nn.Conv2D(channels=4*channels, kernel_size=1, \n",
    "                                       strides=strides, padding=0)\n",
    "    \n",
    "    def hybrid_forward(self, F, x):\n",
    "        x = F.relu(self.bn1(x))\n",
    "        out = self.conv1(x)\n",
    "        out = self.conv2(F.relu(self.bn2(out)))\n",
    "        out = self.conv3(F.relu(self.bn3(out)))\n",
    "        if not self.same_shape or self.first_residual:\n",
    "            x = self.conv4(x)\n",
    "        return out + x"
   ]
  },
  {
   "cell_type": "code",
   "execution_count": 7,
   "metadata": {
    "collapsed": true
   },
   "outputs": [],
   "source": [
    "class ResNet50(nn.HybridBlock):\n",
    "    def __init__(self, num_classes, verbose=False, **kwargs):\n",
    "        super(ResNet50, self).__init__(**kwargs)\n",
    "        self.verbose = verbose\n",
    "        with self.name_scope():\n",
    "            net = self.net = nn.HybridSequential()\n",
    "            # stage 1\n",
    "#             net.add(nn.BatchNorm())\n",
    "#             net.add(nn.Activation(activation='relu'))\n",
    "            net.add(nn.Conv2D(channels=64, kernel_size=7, \n",
    "                              strides=2, padding=3))\n",
    "            net.add(nn.BatchNorm())\n",
    "            net.add(nn.Activation(activation='relu'))\n",
    "            net.add(nn.MaxPool2D(pool_size=3, strides=2, padding=1))\n",
    "            # stage 2\n",
    "            net.add(residual_block(64, first_residual=True))\n",
    "            for _ in range(2):\n",
    "                net.add(residual_block(64))\n",
    "            # stage 3\n",
    "            net.add(residual_block(128, same_shape=False))\n",
    "            for _ in range(3):\n",
    "                net.add(residual_block(128))\n",
    "            # stage 4\n",
    "            net.add(residual_block(256, same_shape=False))\n",
    "            for _ in range(5):\n",
    "                net.add(residual_block(256))\n",
    "            # stage 5\n",
    "            net.add(residual_block(512, same_shape=False))\n",
    "            for _ in range(2):\n",
    "                net.add(residual_block(512))\n",
    "            # stage 6\n",
    "            net.add(nn.BatchNorm())\n",
    "            net.add(nn.Activation(activation='relu'))\n",
    "            net.add(nn.AvgPool2D(pool_size=7))\n",
    "            net.add(nn.Flatten())\n",
    "            net.add(nn.Dense(num_classes))\n",
    "            \n",
    "    def hybrid_forward(self, F, x):\n",
    "        out = x\n",
    "        for i, f in enumerate(self.net):\n",
    "            out = f(out)\n",
    "            if self.verbose:\n",
    "                print('Block %d, Output: %s' % (i+1, out.shape))\n",
    "        return out"
   ]
  },
  {
   "cell_type": "code",
   "execution_count": 8,
   "metadata": {
    "collapsed": true
   },
   "outputs": [],
   "source": [
    "def get_net(ctx, num_classes=1000):\n",
    "    net = ResNet50(num_classes=num_classes)\n",
    "    net.initialize(ctx=ctx, init=init.Xavier())\n",
    "    return net"
   ]
  },
  {
   "cell_type": "code",
   "execution_count": 9,
   "metadata": {},
   "outputs": [],
   "source": [
    "# net = ResNet50(num_classes=100, verbose=True)\n",
    "# net.initialize()\n",
    "# net"
   ]
  },
  {
   "cell_type": "code",
   "execution_count": 10,
   "metadata": {},
   "outputs": [],
   "source": [
    "# for data, label in train_data:\n",
    "#     out = net(data)\n",
    "#     break"
   ]
  },
  {
   "cell_type": "code",
   "execution_count": 11,
   "metadata": {
    "collapsed": true
   },
   "outputs": [],
   "source": [
    "# a = True\n",
    "# b = False\n",
    "# conv = 0\n",
    "# if a:\n",
    "#     conv = 1\n",
    "# elif b:\n",
    "#     conv = 2\n",
    "# if not a or b:\n",
    "#     print(conv)"
   ]
  },
  {
   "cell_type": "code",
   "execution_count": 12,
   "metadata": {
    "collapsed": true
   },
   "outputs": [],
   "source": [
    "# def train(net, train_data, valid_data, ctx, num_epoches, optimizer='adam', \n",
    "#           lr=0.01, lr_decay=0.1, lr_period=50, momentum=0.9, weight_decay=0, \n",
    "#           cost_peroid=10, print_cost=False):\n",
    "#     if optimizer == 'momentum':\n",
    "#         trainer = gluon.Trainer(net.collect_params(), 'sgd', {'learning_rate': lr, \n",
    "#                                                               'momentum': momentum, \n",
    "#                                                               'wd': weight_decay})\n",
    "#     elif optimizer == 'adam':\n",
    "#         trainer = gluon.Trainer(net.collect_params(), 'adam', {'learning_rate': lr, \n",
    "#                                                                'wd': weight_decay})\n",
    "    \n",
    "#     train_costs = []\n",
    "#     valid_costs = []\n",
    "#     v_loss_train = 0\n",
    "#     n_iter_train = 0\n",
    "# #     v_loss_valid = 0\n",
    "# #     n_iter_valid = 0\n",
    "#     for epoch in range(num_epoches):\n",
    "#         pre_time = datetime.datetime.now()\n",
    "#         train_acc = 0\n",
    "# #         train_loss = 0\n",
    "#         if (epoch+1) % lr_period == 0:\n",
    "#             trainer.set_learning_rate(trainer.learning_rate * lr_decay)\n",
    "#         for data, label in train_data:\n",
    "#             data = data.as_in_context(ctx)\n",
    "#             label = label.astype('float32').as_in_context(ctx)\n",
    "#             with ag.record():\n",
    "#                 output = net(data)\n",
    "#                 loss = softmax_cross_entropy(output, label)\n",
    "#             loss.backward()\n",
    "#             trainer.step(batch_size)\n",
    "#             train_acc += nd.mean(output.argmax(axis=1) == label).asscalar()\n",
    "# #             train_loss += nd.mean(loss).asscalar()\n",
    "#             cur_loss = nd.mean(loss).asscalar()\n",
    "#             v_loss_train = 0.9 * v_loss_train + 0.1 * cur_loss\n",
    "#             n_iter_train += 1\n",
    "#             corr_loss_train = v_loss_train / (1 - pow(0.9, n_iter_train))\n",
    "            \n",
    "#         cur_time = datetime.datetime.now()\n",
    "#         h, remainder = divmod((cur_time - pre_time).seconds, 3600)\n",
    "#         m, s = divmod(remainder, 60)\n",
    "#         time_str = 'Time %02d:%02d:%02d, ' % (h, m, s)\n",
    "        \n",
    "#         if valid_data is not None:\n",
    "#             valid_acc = 0\n",
    "#             valid_loss = 0\n",
    "#             for data, label in valid_data:\n",
    "#                 data = data.as_in_context(ctx)\n",
    "#                 label = label.astype('float32').as_in_context(ctx)\n",
    "#                 output = net(data)\n",
    "#                 loss = softmax_cross_entropy(output, label)\n",
    "#                 valid_acc += nd.mean(output.argmax(axis=1) == label).asscalar()\n",
    "# #                 cur_loss = nd.mean(loss).asscalar()\n",
    "# #                 v_loss_valid = 0.9 * v_loss_valid + 0.1 * cur_loss\n",
    "# #                 n_iter_valid += 1\n",
    "# #                 corr_loss_valid = v_loss_valid / (1 - pow(0.9, n_iter_valid))\n",
    "#                 valid_loss += nd.mean(loss).asscalar()\n",
    "#             epoch_str = 'Epoch %d, Train_loss: %s, Train_acc: %s, Valid_acc: %s, ' % (epoch+1, \n",
    "#                                                                                     corr_loss_train, \n",
    "#                                                                                     train_acc/len(train_data), \n",
    "#                                                                                     valid_acc/len(valid_data))\n",
    "#         else:\n",
    "#             epoch_str = 'Epoch %d, Train_loss: %s, Train_acc: %s, ' % (epoch+1, \n",
    "#                                                                      corr_loss_train, \n",
    "#                                                                      train_acc/len(train_data))\n",
    "#         if print_cost and (epoch+1) % cost_peroid == 0:\n",
    "#             train_costs.append(corr_loss_train)\n",
    "# #             train_costs.append(train_loss/len(train_data))\n",
    "#             valid_costs.append(valid_loss/len(valid_data))\n",
    "        \n",
    "#         print(epoch_str + time_str + 'lr: %f' % trainer.learning_rate)\n",
    "        \n",
    "#     if print_cost:\n",
    "#         x_axis = np.linspace(0, num_epoches, len(train_costs), endpoint=True)\n",
    "#         train, = plt.semilogy(x_axis, train_costs)\n",
    "#         valid, = plt.semilogy(x_axis, valid_costs)\n",
    "#         plt.xlabel('epoch')\n",
    "#         plt.ylabel('loss')\n",
    "#         plt.legend(loc='upper right')\n",
    "#         plt.show()"
   ]
  },
  {
   "cell_type": "code",
   "execution_count": 13,
   "metadata": {
    "collapsed": true
   },
   "outputs": [],
   "source": [
    "ctx = mx.gpu(0)\n",
    "num_epoches = 1\n",
    "optimizer = 'momentum'\n",
    "lr = 0.1\n",
    "lr_decay = 0.1\n",
    "lr_period = 50\n",
    "momentum = 0.9\n",
    "weight_decay = 0\n",
    "cost_peroid = 1\n",
    "print_cost = True"
   ]
  },
  {
   "cell_type": "code",
   "execution_count": 14,
   "metadata": {
    "collapsed": true
   },
   "outputs": [],
   "source": [
    "net = get_net(ctx, num_classes=10)\n",
    "net.hybridize()"
   ]
  },
  {
   "cell_type": "code",
   "execution_count": 15,
   "metadata": {},
   "outputs": [
    {
     "name": "stdout",
     "output_type": "stream",
     "text": [
      "Epoch 1, Train_loss: 1.78713667901, Train_acc: 0.27949662642, Valid_acc: 0.405261075949, Time 00:04:38, lr: 0.100000\n"
     ]
    },
    {
     "data": {
      "image/png": "[encoded data removed]",
      "text/plain": [
       "<matplotlib.figure.Figure at 0x7f5f04119f28>"
      ]
     },
     "metadata": {},
     "output_type": "display_data"
    }
   ],
   "source": [
    "utils.train(net, train_data, valid_data, ctx, num_epoches, softmax_cross_entropy, optimizer, \n",
    "      lr, lr_decay, lr_period, momentum, weight_decay, \n",
    "      cost_peroid, print_cost)"
   ]
  },
  {
   "cell_type": "code",
   "execution_count": 16,
   "metadata": {
    "collapsed": true
   },
   "outputs": [],
   "source": [
    "# str = ''\n",
    "# # str = str + 'a' + '' + 'b'\n",
    "# print(len(str))"
   ]
  },
  {
   "cell_type": "code",
   "execution_count": 17,
   "metadata": {
    "collapsed": true
   },
   "outputs": [],
   "source": [
    "# for i in range(0):\n",
    "#     print(i)"
   ]
  },
  {
   "cell_type": "code",
   "execution_count": null,
   "metadata": {
    "collapsed": true
   },
   "outputs": [],
   "source": []
  }
 ],
 "metadata": {
  "kernelspec": {
   "display_name": "Python 3",
   "language": "python",
   "name": "python3"
  },
  "language_info": {
   "codemirror_mode": {
    "name": "ipython",
    "version": 3
   },
   "file_extension": ".py",
   "mimetype": "text/x-python",
   "name": "python",
   "nbconvert_exporter": "python",
   "pygments_lexer": "ipython3",
   "version": "3.6.3"
  }
 },
 "nbformat": 4,
 "nbformat_minor": 2
}
