{
 "cells": [
  {
   "cell_type": "markdown",
   "metadata": {},
   "source": [
    "# DenseNet的实现及在cifar10上的应用"
   ]
  },
  {
   "cell_type": "markdown",
   "metadata": {},
   "source": [
    "## 导入数据集"
   ]
  },
  {
   "cell_type": "markdown",
   "metadata": {},
   "source": [
    "### 导入包"
   ]
  },
  {
   "cell_type": "code",
   "execution_count": 1,
   "metadata": {},
   "outputs": [
    {
     "name": "stderr",
     "output_type": "stream",
     "text": [
      "/home/dyjng/anaconda3/lib/python3.6/site-packages/urllib3/contrib/pyopenssl.py:46: DeprecationWarning: OpenSSL.rand is deprecated - you should use os.urandom instead\n",
      "  import OpenSSL.SSL\n"
     ]
    }
   ],
   "source": [
    "import mxnet as mx\n",
    "from mxnet import ndarray as nd\n",
    "from mxnet import autograd as ag\n",
    "from mxnet import init\n",
    "from mxnet import gluon\n",
    "from mxnet.gluon import nn\n",
    "from mxnet.gluon.data import vision\n",
    "from mxnet.gluon.data.vision import transforms\n",
    "import datetime\n",
    "%matplotlib inline\n",
    "import matplotlib as mpl\n",
    "mpl.rcParams['figure.dpi'] = 120\n",
    "import matplotlib.pyplot as plt\n",
    "import numpy as np\n",
    "import pandas as pd\n",
    "import utils"
   ]
  },
  {
   "cell_type": "markdown",
   "metadata": {},
   "source": [
    "### 数据增广"
   ]
  },
  {
   "cell_type": "code",
   "execution_count": 2,
   "metadata": {
    "collapsed": true
   },
   "outputs": [],
   "source": [
    "transform_train = transforms.Compose([\n",
    "    transforms.Resize(32),\n",
    "    transforms.RandomResizedCrop(32, scale=(0.08, 1.0), ratio=(3.0/4.0, 4.0/3.0)),\n",
    "    transforms.RandomFlipLeftRight(),\n",
    "    transforms.ToTensor(),\n",
    "    transforms.Normalize(mean=[0.4914, 0.4822, 0.4465], std=[0.2023, 0.1994, 0.2010])\n",
    "])\n",
    "\n",
    "transform_test = transforms.Compose([\n",
    "    transforms.Resize(32),\n",
    "    transforms.ToTensor(),\n",
    "    transforms.Normalize(mean=[0.4914, 0.4822, 0.4465], std=[0.2023, 0.1994, 0.2010])\n",
    "])"
   ]
  },
  {
   "cell_type": "markdown",
   "metadata": {},
   "source": [
    "### 读取数据集"
   ]
  },
  {
   "cell_type": "code",
   "execution_count": 3,
   "metadata": {
    "collapsed": true
   },
   "outputs": [],
   "source": [
    "data_dir = 'data/cifar10/'\n",
    "\n",
    "batch_size = 64\n",
    "\n",
    "train_ds = vision.ImageFolderDataset(root=data_dir+'train', flag=1)\n",
    "valid_ds = vision.ImageFolderDataset(root=data_dir+'valid', flag=1)\n",
    "\n",
    "train_data = gluon.data.DataLoader(dataset=train_ds.transform_first(transform_train), \n",
    "                                   batch_size=batch_size, shuffle=True, last_batch='keep')\n",
    "valid_data = gluon.data.DataLoader(dataset=valid_ds.transform_first(transform_test), \n",
    "                                   batch_size=batch_size, shuffle=False, last_batch='keep')"
   ]
  },
  {
   "cell_type": "code",
   "execution_count": 4,
   "metadata": {},
   "outputs": [
    {
     "name": "stdout",
     "output_type": "stream",
     "text": [
      "45000\n",
      "5000\n",
      "704\n",
      "(64, 3, 32, 32) (64,)\n",
      "\n",
      "[3 7 8 8 0 5 2 0 2 7 0 6 4 9 3 9 3 4 0 4 1 1 5 8 8 7 1 7 6 1 1 8 4 5 3 4 1\n",
      " 8 5 1 2 2 4 4 2 2 6 8 6 0 3 5 6 3 1 6 0 5 8 3 0 2 8 4]\n",
      "<NDArray 64 @gpu(0)>\n"
     ]
    }
   ],
   "source": [
    "print(len(train_ds))\n",
    "print(len(valid_ds))\n",
    "\n",
    "print(len(train_data))\n",
    "for data, label in train_data:\n",
    "    print(data.shape, label.shape)\n",
    "    print(label.as_in_context(mx.gpu(0)))\n",
    "    break"
   ]
  },
  {
   "cell_type": "markdown",
   "metadata": {},
   "source": [
    "## 设计模型 --DenseNet"
   ]
  },
  {
   "cell_type": "code",
   "execution_count": 5,
   "metadata": {
    "collapsed": true
   },
   "outputs": [],
   "source": [
    "class conv_block(nn.HybridBlock):\n",
    "    def __init__(self, channels, **kwargs):\n",
    "        super(conv_block, self).__init__(**kwargs)\n",
    "        with self.name_scope():\n",
    "            net = nn.HybridSequential()\n",
    "            net.add(nn.BatchNorm())\n",
    "            net.add(nn.Activation(activation='relu'))\n",
    "            net.add(nn.Conv2D(channels=4*channels, kernel_size=1, \n",
    "                              strides=1, padding=0))\n",
    "            net.add(nn.BatchNorm())\n",
    "            net.add(nn.Activation(activation='relu'))\n",
    "            net.add(nn.Conv2D(channels=channels, kernel_size=3, \n",
    "                              strides=1, padding=1))\n",
    "        self.net = net\n",
    "        \n",
    "    def hybrid_forward(self, F, x):\n",
    "        out = x\n",
    "        for layer in self.net:\n",
    "            out = layer(out)\n",
    "        return out\n",
    "\n",
    "class dense_block(nn.HybridBlock):\n",
    "    def __init__(self, num_layers, k, **kwargs):\n",
    "        super(dense_block, self).__init__(**kwargs)\n",
    "        self.num_layers = num_layers\n",
    "        with self.name_scope():\n",
    "            net = nn.HybridSequential()\n",
    "            for _ in range(num_layers):\n",
    "                net.add(conv_block(k))\n",
    "        self.net = net\n",
    "    \n",
    "    def hybrid_forward(self, F, x):\n",
    "        for layer in self.net:\n",
    "            out = layer(x)\n",
    "            x = F.concat(x, out, dim=1)   # nd.concat 操作要求输入是 ndarray 但是 hybridize 后 out变成了 symbol 类型 会报错\n",
    "        return x\n",
    "\n",
    "class transition_block(nn.HybridBlock):\n",
    "    def __init__(self, channels, theta=0.5, **kwargs):\n",
    "        super(transition_block, self).__init__(**kwargs)\n",
    "        with self.name_scope():\n",
    "            net = nn.HybridSequential()\n",
    "            net.add(nn.BatchNorm())\n",
    "            net.add(nn.Activation(activation='relu'))\n",
    "            net.add(nn.Conv2D(channels=int(channels*theta), kernel_size=1, \n",
    "                              strides=1, padding=0))\n",
    "            net.add(nn.AvgPool2D(pool_size=2, strides=2, padding=0))\n",
    "        self.net = net\n",
    "        \n",
    "    def hybrid_forward(self, F, x):\n",
    "        out = x\n",
    "        for layer in self.net:\n",
    "            out = layer(out)\n",
    "        return out"
   ]
  },
  {
   "cell_type": "code",
   "execution_count": 6,
   "metadata": {},
   "outputs": [
    {
     "name": "stdout",
     "output_type": "stream",
     "text": [
      "(4, 23, 8, 8)\n",
      "(4, 5, 4, 4)\n"
     ]
    }
   ],
   "source": [
    "dblk = dense_block(2, 10)\n",
    "dblk.initialize()\n",
    "\n",
    "x = nd.random.uniform(shape = (4, 3, 8, 8))\n",
    "print(dblk(x).shape)\n",
    "\n",
    "tblk = transition_block(10)\n",
    "tblk.initialize()\n",
    "\n",
    "print(tblk(x).shape)"
   ]
  },
  {
   "cell_type": "code",
   "execution_count": 7,
   "metadata": {
    "collapsed": true
   },
   "outputs": [],
   "source": [
    "class DenseNet(nn.HybridBlock):\n",
    "    def __init__(self, init_channels, dense_blocks, k, theta, num_classes, verbose=False, **kwargs):\n",
    "        super(DenseNet, self).__init__(**kwargs)\n",
    "        self.verbose = verbose\n",
    "        with self.name_scope():\n",
    "            net = nn.HybridSequential()\n",
    "            # stage 1\n",
    "            net.add(nn.BatchNorm())\n",
    "            net.add(nn.Activation(activation='relu'))\n",
    "            net.add(nn.Conv2D(channels=init_channels, kernel_size=7, \n",
    "                              strides=2, padding=3))\n",
    "            net.add(nn.BatchNorm())\n",
    "            net.add(nn.Activation(activation='relu'))\n",
    "            net.add(nn.MaxPool2D(pool_size=3, strides=2, padding=1))\n",
    "            # stage dense_net\n",
    "            channels = init_channels\n",
    "            for i, num_layers in enumerate(dense_blocks):\n",
    "                net.add(dense_block(num_layers, k))\n",
    "                channels += k*num_layers\n",
    "                if i < len(dense_blocks) - 1:\n",
    "                    net.add(transition_block(channels, theta))\n",
    "                    channels = int(channels * theta)\n",
    "            # stage classification\n",
    "            net.add(nn.BatchNorm())\n",
    "            net.add(nn.Activation(activation='relu'))\n",
    "            net.add(nn.GlobalAvgPool2D())\n",
    "            net.add(nn.Flatten())\n",
    "            net.add(nn.Dense(num_classes))\n",
    "        self.net = net\n",
    "    \n",
    "    def hybrid_forward(self, F, x):\n",
    "        out = x\n",
    "        for i, f in enumerate(self.net):\n",
    "            out = f(out)\n",
    "            if self.verbose:\n",
    "                print('Block %d, Output %s' % (i+1, out.shape))\n",
    "        return out"
   ]
  },
  {
   "cell_type": "code",
   "execution_count": 8,
   "metadata": {
    "collapsed": true
   },
   "outputs": [],
   "source": [
    "def get_net(ctx, init_channels, dense_blocks, k, theta=0.5, num_classes=1000):\n",
    "    net = DenseNet(init_channels=init_channels, dense_blocks=dense_blocks, k=k, theta=theta, num_classes=num_classes)\n",
    "    net.initialize(ctx=ctx, init=init.Xavier())\n",
    "    return net"
   ]
  },
  {
   "cell_type": "code",
   "execution_count": 9,
   "metadata": {
    "collapsed": true
   },
   "outputs": [],
   "source": [
    "# net = DenseNet(init_channels=24, dense_blocks=[6, 12, 24, 16], k=12, theta=0.5, num_classes=100, verbose=True)\n",
    "# net.initialize()\n",
    "# net"
   ]
  },
  {
   "cell_type": "code",
   "execution_count": 10,
   "metadata": {
    "collapsed": true
   },
   "outputs": [],
   "source": [
    "# for data, label in train_data:\n",
    "#     print(data.shape)\n",
    "#     output = net(data)\n",
    "#     break"
   ]
  },
  {
   "cell_type": "markdown",
   "metadata": {},
   "source": [
    "## 交叉熵损失函数"
   ]
  },
  {
   "cell_type": "code",
   "execution_count": 11,
   "metadata": {
    "collapsed": true
   },
   "outputs": [],
   "source": [
    "softmax_cross_entropy = gluon.loss.SoftmaxCrossEntropyLoss()"
   ]
  },
  {
   "cell_type": "code",
   "execution_count": 12,
   "metadata": {
    "collapsed": true
   },
   "outputs": [],
   "source": [
    "ctx = mx.gpu(0)\n",
    "num_epoches = 300\n",
    "optimizer = 'momentum'\n",
    "lr = 0.1\n",
    "lr_decay = 0.1\n",
    "lr_period = 150\n",
    "momentum = 0.9\n",
    "weight_decay = 1e-4\n",
    "cost_period = 10\n",
    "print_cost = True"
   ]
  },
  {
   "cell_type": "code",
   "execution_count": 13,
   "metadata": {
    "collapsed": true,
    "scrolled": true
   },
   "outputs": [],
   "source": [
    "init_channels = 16\n",
    "dense_blocks = [6, 12, 24, 16]\n",
    "k = 24\n",
    "theta=0.5\n",
    "num_classes=100\n",
    "net = get_net(ctx, init_channels, dense_blocks, k, theta, num_classes)\n",
    "net.hybridize()"
   ]
  },
  {
   "cell_type": "code",
   "execution_count": 16,
   "metadata": {},
   "outputs": [
    {
     "name": "stdout",
     "output_type": "stream",
     "text": [
      "Epoch 1, Train_loss: 0.418027663413, Train_acc: 0.858731356534, Valid_acc: 0.874208860759, Time 00:00:43, lr: 0.001000\n",
      "Epoch 2, Train_loss: 0.428524129102, Train_acc: 0.863059303977, Valid_acc: 0.871835443038, Time 00:00:42, lr: 0.001000\n",
      "Epoch 3, Train_loss: 0.444070427735, Train_acc: 0.864701704545, Valid_acc: 0.873417721519, Time 00:00:43, lr: 0.001000\n",
      "Epoch 4, Train_loss: 0.4180419435, Train_acc: 0.867120916193, Valid_acc: 0.873022151899, Time 00:00:43, lr: 0.001000\n",
      "Epoch 5, Train_loss: 0.346370889389, Train_acc: 0.870228160511, Valid_acc: 0.87559335443, Time 00:00:42, lr: 0.001000\n",
      "Epoch 6, Train_loss: 0.381146260158, Train_acc: 0.873135653409, Valid_acc: 0.87539556962, Time 00:00:43, lr: 0.001000\n",
      "Epoch 7, Train_loss: 0.468228075661, Train_acc: 0.873291015625, Valid_acc: 0.876977848101, Time 00:00:47, lr: 0.001000\n",
      "Epoch 8, Train_loss: 0.433871345151, Train_acc: 0.872669566761, Valid_acc: 0.879746835443, Time 00:00:54, lr: 0.001000\n",
      "Epoch 9, Train_loss: 0.351229910007, Train_acc: 0.870050603693, Valid_acc: 0.879153481013, Time 00:01:23, lr: 0.001000\n",
      "Epoch 10, Train_loss: 0.463096466762, Train_acc: 0.875421697443, Valid_acc: 0.880735759494, Time 00:01:37, lr: 0.001000\n",
      "Epoch 11, Train_loss: 0.548206518593, Train_acc: 0.875133167614, Valid_acc: 0.878955696203, Time 00:01:37, lr: 0.001000\n",
      "Epoch 12, Train_loss: 0.384118963248, Train_acc: 0.8759765625, Valid_acc: 0.876780063291, Time 00:01:37, lr: 0.001000\n",
      "Epoch 13, Train_loss: 0.411258222324, Train_acc: 0.876842151989, Valid_acc: 0.879746835443, Time 00:01:38, lr: 0.001000\n",
      "Epoch 14, Train_loss: 0.466633905775, Train_acc: 0.87715287642, Valid_acc: 0.87559335443, Time 00:01:38, lr: 0.001000\n",
      "Epoch 15, Train_loss: 0.35449784208, Train_acc: 0.881880326705, Valid_acc: 0.877966772152, Time 00:01:38, lr: 0.001000\n",
      "Epoch 16, Train_loss: 0.331333203301, Train_acc: 0.877308238636, Valid_acc: 0.875791139241, Time 00:01:37, lr: 0.001000\n",
      "Epoch 17, Train_loss: 0.413363139274, Train_acc: 0.879327947443, Valid_acc: 0.877768987342, Time 00:01:38, lr: 0.001000\n",
      "Epoch 18, Train_loss: 0.341683804486, Train_acc: 0.878639914773, Valid_acc: 0.880735759494, Time 00:01:38, lr: 0.001000\n",
      "Epoch 19, Train_loss: 0.342420150728, Train_acc: 0.879816228693, Valid_acc: 0.876186708861, Time 00:01:36, lr: 0.001000\n",
      "Epoch 20, Train_loss: 0.417332523672, Train_acc: 0.880282315341, Valid_acc: 0.876977848101, Time 00:01:37, lr: 0.001000\n",
      "Epoch 21, Train_loss: 0.375595838824, Train_acc: 0.879483309659, Valid_acc: 0.877175632911, Time 00:01:38, lr: 0.001000\n",
      "Epoch 22, Train_loss: 0.394990923518, Train_acc: 0.881613991477, Valid_acc: 0.876186708861, Time 00:01:37, lr: 0.001000\n",
      "Epoch 23, Train_loss: 0.351797998611, Train_acc: 0.884410511364, Valid_acc: 0.878955696203, Time 00:01:38, lr: 0.001000\n",
      "Epoch 24, Train_loss: 0.471110800077, Train_acc: 0.882435191761, Valid_acc: 0.878955696203, Time 00:01:37, lr: 0.001000\n",
      "Epoch 25, Train_loss: 0.438407881992, Train_acc: 0.884410511364, Valid_acc: 0.876186708861, Time 00:01:35, lr: 0.001000\n",
      "Epoch 26, Train_loss: 0.355003487943, Train_acc: 0.882057883523, Valid_acc: 0.879944620253, Time 00:01:37, lr: 0.001000\n",
      "Epoch 27, Train_loss: 0.37005593343, Train_acc: 0.884943181818, Valid_acc: 0.880735759494, Time 00:01:36, lr: 0.001000\n",
      "Epoch 28, Train_loss: 0.411500314558, Train_acc: 0.882590553977, Valid_acc: 0.876977848101, Time 00:01:35, lr: 0.001000\n",
      "Epoch 29, Train_loss: 0.36154693916, Train_acc: 0.882634943182, Valid_acc: 0.880340189873, Time 00:01:32, lr: 0.001000\n",
      "Epoch 30, Train_loss: 0.331025119155, Train_acc: 0.884366122159, Valid_acc: 0.877175632911, Time 00:01:10, lr: 0.001000\n",
      "Epoch 31, Train_loss: 0.332466697107, Train_acc: 0.885031960227, Valid_acc: 0.878164556962, Time 00:01:03, lr: 0.001000\n",
      "Epoch 32, Train_loss: 0.363445791834, Train_acc: 0.88163618608, Valid_acc: 0.882120253165, Time 00:01:02, lr: 0.001000\n",
      "Epoch 33, Train_loss: 0.408116938306, Train_acc: 0.883189808239, Valid_acc: 0.875, Time 00:01:03, lr: 0.001000\n",
      "Epoch 34, Train_loss: 0.327085351237, Train_acc: 0.886341441761, Valid_acc: 0.876977848101, Time 00:01:03, lr: 0.001000\n",
      "Epoch 35, Train_loss: 0.303410253177, Train_acc: 0.883544921875, Valid_acc: 0.877373417722, Time 00:01:03, lr: 0.001000\n",
      "Epoch 36, Train_loss: 0.434205586892, Train_acc: 0.886740944602, Valid_acc: 0.872231012658, Time 00:01:03, lr: 0.001000\n",
      "Epoch 37, Train_loss: 0.330758625735, Train_acc: 0.883922230114, Valid_acc: 0.878362341772, Time 00:01:03, lr: 0.001000\n",
      "Epoch 38, Train_loss: 0.324038415311, Train_acc: 0.886674360795, Valid_acc: 0.878560126582, Time 00:01:02, lr: 0.001000\n",
      "Epoch 39, Train_loss: 0.376782115739, Train_acc: 0.886785333807, Valid_acc: 0.87559335443, Time 00:01:02, lr: 0.001000\n",
      "Epoch 40, Train_loss: 0.343032355869, Train_acc: 0.885142933239, Valid_acc: 0.879746835443, Time 00:01:02, lr: 0.001000\n",
      "Epoch 41, Train_loss: 0.406068812197, Train_acc: 0.88651899858, Valid_acc: 0.876384493671, Time 00:01:02, lr: 0.001000\n",
      "Epoch 42, Train_loss: 0.293562548605, Train_acc: 0.886208274148, Valid_acc: 0.87440664557, Time 00:01:01, lr: 0.001000\n",
      "Epoch 43, Train_loss: 0.436905803645, Train_acc: 0.88749556108, Valid_acc: 0.875, Time 00:01:03, lr: 0.001000\n",
      "Epoch 44, Train_loss: 0.33082029786, Train_acc: 0.889803799716, Valid_acc: 0.878362341772, Time 00:01:02, lr: 0.001000\n",
      "Epoch 45, Train_loss: 0.403065476512, Train_acc: 0.88603071733, Valid_acc: 0.874208860759, Time 00:01:02, lr: 0.001000\n",
      "Epoch 46, Train_loss: 0.332622213789, Train_acc: 0.886119495739, Valid_acc: 0.877768987342, Time 00:01:02, lr: 0.001000\n",
      "Epoch 47, Train_loss: 0.312562771004, Train_acc: 0.884943181818, Valid_acc: 0.876384493671, Time 00:01:02, lr: 0.001000\n",
      "Epoch 48, Train_loss: 0.364965580298, Train_acc: 0.884898792614, Valid_acc: 0.876384493671, Time 00:01:02, lr: 0.001000\n",
      "Epoch 49, Train_loss: 0.383452731477, Train_acc: 0.885431463068, Valid_acc: 0.877768987342, Time 00:01:02, lr: 0.001000\n",
      "Epoch 50, Train_loss: 0.566400548433, Train_acc: 0.88749556108, Valid_acc: 0.875791139241, Time 00:01:02, lr: 0.001000\n"
     ]
    },
    {
     "data": {
      "image/png": "[encoded data removed]",
      "text/plain": [
       "<matplotlib.figure.Figure at 0x7f4c2cf00390>"
      ]
     },
     "metadata": {},
     "output_type": "display_data"
    }
   ],
   "source": [
    "num_epoches =50\n",
    "lr = 0.001\n",
    "utils.train(net, train_data, valid_data, ctx, num_epoches, softmax_cross_entropy, optimizer, \n",
    "      lr, lr_decay, lr_period, momentum, weight_decay, \n",
    "      cost_period, print_cost)"
   ]
  },
  {
   "cell_type": "code",
   "execution_count": null,
   "metadata": {
    "collapsed": true
   },
   "outputs": [],
   "source": []
  }
 ],
 "metadata": {
  "kernelspec": {
   "display_name": "Python 3",
   "language": "python",
   "name": "python3"
  },
  "language_info": {
   "codemirror_mode": {
    "name": "ipython",
    "version": 3
   },
   "file_extension": ".py",
   "mimetype": "text/x-python",
   "name": "python",
   "nbconvert_exporter": "python",
   "pygments_lexer": "ipython3",
   "version": "3.6.3"
  }
 },
 "nbformat": 4,
 "nbformat_minor": 2
}
